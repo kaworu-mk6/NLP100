{
 "cells": [
  {
   "cell_type": "code",
   "execution_count": 1,
   "metadata": {},
   "outputs": [],
   "source": [
    "#coding:utf-8\n",
    "\n",
    "import re\n",
    "import json"
   ]
  },
  {
   "cell_type": "markdown",
   "metadata": {},
   "source": [
    "## memo\n",
    "re --- 正規表現操作 (https://docs.python.org/ja/3/library/re.html )"
   ]
  },
  {
   "cell_type": "markdown",
   "metadata": {},
   "source": [
    "# Problem 20: Read JSON documents"
   ]
  },
  {
   "cell_type": "code",
   "execution_count": 3,
   "metadata": {},
   "outputs": [],
   "source": [
    "with open('jawiki-country.json', 'r') as f:\n",
    "    for line in f:\n",
    "        df = json.loads(line)\n",
    "        if df['title']=='イギリス':\n",
    "            text_uk = df['text']\n",
    "            break\n",
    "            \n",
    "with open('text_uk.txt', mode='w') as f:\n",
    "    f.write(text_uk)"
   ]
  },
  {
   "cell_type": "markdown",
   "metadata": {},
   "source": [
    "## memo\n",
    "json.loads: json文字列を辞書型に変換 <br>\n",
    "json.load:  jsonファイルを辞書型として読み込み"
   ]
  },
  {
   "cell_type": "markdown",
   "metadata": {},
   "source": [
    "# Problem 21: Lines with category names"
   ]
  },
  {
   "cell_type": "code",
   "execution_count": 4,
   "metadata": {},
   "outputs": [
    {
     "name": "stdout",
     "output_type": "stream",
     "text": [
      "[[Category:イギリス|*]]\n",
      "[[Category:イギリス連邦加盟国]]\n",
      "[[Category:英連邦王国|*]]\n",
      "[[Category:G8加盟国]]\n",
      "[[Category:欧州連合加盟国|元]]\n",
      "[[Category:海洋国家]]\n",
      "[[Category:現存する君主国]]\n",
      "[[Category:島国]]\n",
      "[[Category:1801年に成立した国家・領域]]\n"
     ]
    }
   ],
   "source": [
    "pattern = '^(\\[\\[Category:.*?\\]\\])'\n",
    "category = re.findall(pattern, text_uk, re.MULTILINE)\n",
    "result = '\\n'.join(category)\n",
    "\n",
    "print(result)"
   ]
  },
  {
   "cell_type": "markdown",
   "metadata": {},
   "source": [
    "# Problem 22: Category names"
   ]
  },
  {
   "cell_type": "code",
   "execution_count": 19,
   "metadata": {
    "scrolled": true
   },
   "outputs": [
    {
     "name": "stdout",
     "output_type": "stream",
     "text": [
      "イギリス\n",
      "イギリス連邦加盟国\n",
      "英連邦王国\n",
      "G8加盟国\n",
      "欧州連合加盟国\n",
      "海洋国家\n",
      "現存する君主国\n",
      "島国\n",
      "1801年に成立した国家・領域\n"
     ]
    }
   ],
   "source": [
    "pattern = '^\\[\\[Category:(.*?)(?:\\|.*)?\\]\\]'\n",
    "category_names = re.findall(pattern, text_uk, re.MULTILINE)\n",
    "result = '\\n'.join(category_names)\n",
    "\n",
    "print(result)"
   ]
  },
  {
   "cell_type": "markdown",
   "metadata": {},
   "source": [
    "# Problem 23: Section Structure"
   ]
  },
  {
   "cell_type": "code",
   "execution_count": 38,
   "metadata": {
    "scrolled": true
   },
   "outputs": [
    {
     "name": "stdout",
     "output_type": "stream",
     "text": [
      "国名:1\n",
      "歴史:1\n",
      "地理:1\n",
      "主要都市:2\n",
      "気候:2\n",
      "政治:1\n",
      "元首:2\n",
      "法:2\n",
      "内政:2\n",
      "地方行政区分:2\n",
      "外交・軍事:2\n",
      "経済:1\n",
      "鉱業:2\n",
      "農業:2\n",
      "貿易:2\n",
      "不動産:2\n",
      "エネルギー政策:2\n",
      "通貨:2\n",
      "企業:2\n",
      "通信:3\n",
      "交通:1\n",
      "道路:2\n",
      "鉄道:2\n",
      "海運:2\n",
      "航空:2\n",
      "科学技術:1\n",
      "国民:1\n",
      "言語:2\n",
      "宗教:2\n",
      "婚姻:2\n",
      "移住:2\n",
      "教育:2\n",
      "医療:2\n",
      "文化:1\n",
      "食文化:2\n",
      "文学:2\n",
      "哲学:2\n",
      "音楽:2\n",
      "ポピュラー音楽:3\n",
      "映画:2\n",
      "コメディ:2\n",
      "国花:2\n",
      "世界遺産:2\n",
      "祝祭日:2\n",
      "スポーツ:2\n",
      "サッカー:3\n",
      "クリケット:3\n",
      "競馬:3\n",
      "モータースポーツ:3\n",
      "野球:3\n",
      " カーリング :3\n",
      " 自転車競技 :3\n",
      "脚注:1\n",
      "関連項目:1\n",
      "外部リンク:1\n"
     ]
    }
   ],
   "source": [
    "pattern = '^(={2,})(.*?)={2,}$'\n",
    "section_name = re.findall(pattern, text_uk, re.MULTILINE)\n",
    "result = '\\n'.join(i[1]+':'+str(len(i[0])-1) for i in section_name)\n",
    "\n",
    "print(result)"
   ]
  },
  {
   "cell_type": "markdown",
   "metadata": {},
   "source": [
    "# Problem 24: Media references"
   ]
  },
  {
   "cell_type": "code",
   "execution_count": 60,
   "metadata": {
    "scrolled": false
   },
   "outputs": [
    {
     "name": "stdout",
     "output_type": "stream",
     "text": [
      "Royal Coat of Arms of the United Kingdom.svg\n",
      "Descriptio Prime Tabulae Europae.jpg\n",
      "Lenepveu, Jeanne d'Arc au siège d'Orléans.jpg\n",
      "London.bankofengland.arp.jpg\n",
      "Battle of Waterloo 1815.PNG\n",
      "Uk topo en.jpg\n",
      "BenNevis2005.jpg\n",
      "Population density UK 2011 census.png\n",
      "2019 Greenwich Peninsula & Canary Wharf.jpg\n",
      "Birmingham Skyline from Edgbaston Cricket Ground crop.jpg\n",
      "Leeds CBD at night.jpg\n",
      "Glasgow and the Clyde from the air (geograph 4665720).jpg\n",
      "Palace of Westminster, London - Feb 2007.jpg\n",
      "Scotland Parliament Holyrood.jpg\n",
      "Donald Trump and Theresa May (33998675310) (cropped).jpg\n",
      "Soldiers Trooping the Colour, 16th June 2007.jpg\n",
      "City of London skyline from London City Hall - Oct 2008.jpg\n",
      "Oil platform in the North SeaPros.jpg\n",
      "Eurostar at St Pancras Jan 2008.jpg\n",
      "Heathrow Terminal 5C Iwelumo-1.jpg\n",
      "Airbus A380-841 G-XLEB British Airways (10424102995).jpg\n",
      "UKpop.svg\n",
      "Anglospeak.svg\n",
      "Royal Aberdeen Children's Hospital.jpg\n",
      "CHANDOS3.jpg\n",
      "The Fabs.JPG\n",
      "Wembley Stadium, illuminated.jpg\n"
     ]
    }
   ],
   "source": [
    "pattern = '\\[\\[ファイル:(.*?)\\|(?:.*?)\\]\\]'\n",
    "media = re.findall(pattern, text_uk)\n",
    "result = '\\n'.join(media)\n",
    "\n",
    "print(result)"
   ]
  },
  {
   "cell_type": "markdown",
   "metadata": {},
   "source": [
    "# Problem 25: Infobox"
   ]
  },
  {
   "cell_type": "markdown",
   "metadata": {},
   "source": [
    "re.DOTALLを指定すると'.'が改行にもマッチするようになる"
   ]
  },
  {
   "cell_type": "code",
   "execution_count": 79,
   "metadata": {
    "scrolled": true
   },
   "outputs": [
    {
     "name": "stdout",
     "output_type": "stream",
     "text": [
      "略名 : イギリス\n",
      "日本語国名 : グレートブリテン及び北アイルランド連合王国\n",
      "公式国名 : {{lang|en|United Kingdom of Great Britain and Northern Ireland}}<ref>英語以外での正式国名:<br />\n",
      "国旗画像 : Flag of the United Kingdom.svg\n",
      "国章画像 : [[ファイル:Royal Coat of Arms of the United Kingdom.svg|85px|イギリスの国章]]\n",
      "国章リンク : （[[イギリスの国章|国章]]）\n",
      "標語 : {{lang|fr|[[Dieu et mon droit]]}}<br />（[[フランス語]]:[[Dieu et mon droit|神と我が権利]]）\n",
      "国歌 : [[女王陛下万歳|{{lang|en|God Save the Queen}}]]{{en icon}}<br />''神よ女王を護り賜え''<br />{{center|[[ファイル:United States Navy Band - God Save the Queen.ogg]]}}\n",
      "地図画像 : Europe-UK.svg\n",
      "位置画像 : United Kingdom (+overseas territories) in the World (+Antarctica claims).svg\n",
      "公用語 : [[英語]]\n",
      "首都 : [[ロンドン]]（事実上）\n",
      "最大都市 : ロンドン\n",
      "元首等肩書 : [[イギリスの君主|女王]]\n",
      "元首等氏名 : [[エリザベス2世]]\n",
      "首相等肩書 : [[イギリスの首相|首相]]\n",
      "首相等氏名 : [[ボリス・ジョンソン]]\n",
      "他元首等肩書1 : [[貴族院 (イギリス)|貴族院議長]]\n",
      "他元首等氏名1 : [[:en:Norman Fowler, Baron Fowler|ノーマン・ファウラー]]\n",
      "他元首等肩書2 : [[庶民院 (イギリス)|庶民院議長]]\n",
      "他元首等氏名2 : {{仮リンク|リンゼイ・ホイル|en|Lindsay Hoyle}}\n",
      "他元首等肩書3 : [[連合王国最高裁判所|最高裁判所長官]]\n",
      "他元首等氏名3 : [[:en:Brenda Hale, Baroness Hale of Richmond|ブレンダ・ヘイル]]\n",
      "面積順位 : 76\n",
      "面積大きさ : 1 E11\n",
      "面積値 : 244,820\n",
      "水面積率 : 1.3%\n",
      "人口統計年 : 2018\n",
      "人口順位 : 22\n",
      "人口大きさ : 1 E7\n",
      "人口値 : 6643万5600<ref>{{Cite web|url=https://www.ons.gov.uk/peoplepopulationandcommunity/populationandmigration/populationestimates|title=Population estimates - Office for National Statistics|accessdate=2019-06-26|date=2019-06-26}}</ref>\n",
      "人口密度値 : 271\n",
      "GDP統計年元 : 2012\n",
      "GDP値元 : 1兆5478億<ref name=\"imf-statistics-gdp\">[http://www.imf.org/external/pubs/ft/weo/2012/02/weodata/weorept.aspx?pr.x=70&pr.y=13&sy=2010&ey=2012&scsm=1&ssd=1&sort=country&ds=.&br=1&c=112&s=NGDP%2CNGDPD%2CPPPGDP%2CPPPPC&grp=0&a=IMF>Data and Statistics>World Economic Outlook Databases>By Countrise>United Kingdom]</ref>\n",
      "GDP統計年MER : 2012\n",
      "GDP順位MER : 6\n",
      "GDP値MER : 2兆4337億<ref name=\"imf-statistics-gdp\" />\n",
      "GDP統計年 : 2012\n",
      "GDP順位 : 6\n",
      "GDP値 : 2兆3162億<ref name=\"imf-statistics-gdp\" />\n",
      "GDP/人 : 36,727<ref name=\"imf-statistics-gdp\" />\n",
      "建国形態 : 建国\n",
      "確立形態1 : [[イングランド王国]]／[[スコットランド王国]]<br />（両国とも[[合同法 (1707年)|1707年合同法]]まで）\n",
      "確立年月日1 : 927年／843年\n",
      "確立形態2 : [[グレートブリテン王国]]成立<br />（1707年合同法）\n",
      "確立年月日2 : 1707年{{0}}5月{{0}}1日\n",
      "確立形態3 : [[グレートブリテン及びアイルランド連合王国]]成立<br />（[[合同法 (1800年)|1800年合同法]]）\n",
      "確立年月日3 : 1801年{{0}}1月{{0}}1日\n",
      "確立形態4 : 現在の国号「'''グレートブリテン及び北アイルランド連合王国'''」に変更\n",
      "確立年月日4 : 1927年{{0}}4月12日\n",
      "通貨 : [[スターリング・ポンド|UKポンド]] (£)\n",
      "通貨コード : GBP\n",
      "時間帯 : ±0\n",
      "夏時間 : +1\n",
      "ISO 3166-1 : GB / GBR\n",
      "ccTLD : [[.uk]] / [[.gb]]<ref>使用は.ukに比べ圧倒的少数。</ref>\n",
      "国際電話番号 : 44\n",
      "注記 : <references/>\n"
     ]
    }
   ],
   "source": [
    "pattern = '^\\{\\{基礎情報.*?(.*?)^\\}\\}'\n",
    "infobox = re.findall(pattern, text_uk, re.MULTILINE+re.DOTALL)\n",
    "\n",
    "pattern = '^\\|(.*?)\\s*=\\s*(.*?)$'\n",
    "result = dict(re.findall(pattern, infobox[0], re.MULTILINE+re.DOTALL))\n",
    "\n",
    "for k,v in result.items():\n",
    "    print(k, ':', v)"
   ]
  },
  {
   "cell_type": "markdown",
   "metadata": {},
   "source": [
    "# Problem 26: Remove emphasis markups\n",
    "# Problem 27: Remove internal links\n",
    "# Problem 28: Remove Mediawiki markups\n",
    "\n",
    "マークアップ早見表(http://ja.wikipedia.org/wiki/Help:早見表 )"
   ]
  },
  {
   "cell_type": "code",
   "execution_count": 115,
   "metadata": {
    "scrolled": true
   },
   "outputs": [
    {
     "name": "stdout",
     "output_type": "stream",
     "text": [
      "略名 : イギリス\n",
      "日本語国名 : グレートブリテン及び北アイルランド連合王国\n",
      "公式国名 : 英語以外での正式国名:\n",
      "国旗画像 : Flag of the United Kingdom.svg\n",
      "国章画像 : ファイル:Royal Coat of Arms of the United Kingdom.svg|85px|イギリスの国章\n",
      "国章リンク : （イギリスの国章|国章）\n",
      "標語 : （フランス語:Dieu et mon droit|神と我が権利）\n",
      "国歌 : 女王陛下万歳|神よ女王を護り賜え\n",
      "地図画像 : Europe-UK.svg\n",
      "位置画像 : United Kingdom (+overseas territories) in the World (+Antarctica claims).svg\n",
      "公用語 : 英語\n",
      "首都 : ロンドン（事実上）\n",
      "最大都市 : ロンドン\n",
      "元首等肩書 : イギリスの君主|女王\n",
      "元首等氏名 : エリザベス2世\n",
      "首相等肩書 : イギリスの首相|首相\n",
      "首相等氏名 : ボリス・ジョンソン\n",
      "他元首等肩書1 : 貴族院 (イギリス)|貴族院議長\n",
      "他元首等氏名1 : :en:Norman Fowler, Baron Fowler|ノーマン・ファウラー\n",
      "他元首等肩書2 : 庶民院 (イギリス)|庶民院議長\n",
      "他元首等氏名2 : |他元首等肩書3 = 連合王国最高裁判所|最高裁判所長官\n",
      "他元首等氏名3 : :en:Brenda Hale, Baroness Hale of Richmond|ブレンダ・ヘイル\n",
      "面積順位 : 76\n",
      "面積大きさ : 1 E11\n",
      "面積値 : 244,820\n",
      "水面積率 : 1.3%\n",
      "人口統計年 : 2018\n",
      "人口順位 : 22\n",
      "人口大きさ : 1 E7\n",
      "人口値 : 6643万5600\n",
      "人口密度値 : 271\n",
      "GDP統計年元 : 2012\n",
      "GDP値元 : 1兆5478億\n",
      "GDP統計年MER : 2012\n",
      "GDP順位MER : 6\n",
      "GDP値MER : 2兆4337億\n",
      "GDP統計年 : 2012\n",
      "GDP順位 : 6\n",
      "GDP値 : 2兆3162億\n",
      "GDP/人 : 36,727\n",
      "建国形態 : 建国\n",
      "確立形態1 : イングランド王国／スコットランド王国（両国とも合同法 (1707年)|1707年合同法まで）\n",
      "確立年月日1 : 927年／843年\n",
      "確立形態2 : グレートブリテン王国成立（1707年合同法）\n",
      "確立年月日2 : 1707年5月1日\n",
      "確立形態3 : グレートブリテン及びアイルランド連合王国成立（合同法 (1800年)|1800年合同法）\n",
      "確立年月日3 : 1801年1月1日\n",
      "確立形態4 : 現在の国号「グレートブリテン及び北アイルランド連合王国」に変更\n",
      "確立年月日4 : 1927年4月12日\n",
      "通貨 : スターリング・ポンド|UKポンド (£)\n",
      "通貨コード : GBP\n",
      "時間帯 : ±0\n",
      "夏時間 : +1\n",
      "ISO 3166-1 : GB / GBR\n",
      "ccTLD : .uk / .gb使用は.ukに比べ圧倒的少数。\n",
      "国際電話番号 : 44\n",
      "注記 : \n"
     ]
    }
   ],
   "source": [
    "pattern = '^\\{\\{基礎情報.*?(.*?)^\\}\\}'\n",
    "infobox = re.findall(pattern, text_uk, re.MULTILINE+re.DOTALL)\n",
    "\n",
    "# problem26\n",
    "pattern = '\\'{2,5}'\n",
    "rep = re.sub(pattern, '', infobox[0])\n",
    "\n",
    "# problem27\n",
    "rep = re.sub('\\[\\[', '', rep)\n",
    "rep = re.sub('\\]\\]', '', rep)\n",
    "\n",
    "# problem28\n",
    "# remove external link\n",
    "rep = re.sub('\\[?http.*?\\]', '', rep)\n",
    "\n",
    "# remove <ref> tags\n",
    "rep = re.sub('<.+?>', '', rep)\n",
    "rep = re.sub('\\{\\{.*?\\}\\}', '', rep)\n",
    "\n",
    "# remove links\n",
    "rep = re.sub('\\{\\{.*?\\|.*?\\}\\}', '', rep)\n",
    "\n",
    "pattern = '^\\|(.*?)\\s*=\\s*(.*?)$'\n",
    "result = dict(re.findall(pattern, rep, re.MULTILINE+re.DOTALL))\n",
    "\n",
    "for k,v in result.items():\n",
    "    print(k, ':', v)"
   ]
  },
  {
   "cell_type": "markdown",
   "metadata": {},
   "source": [
    "# Problem 29:  Country flag\n",
    "\n",
    "mediawiki API(https://www.mediawiki.org/wiki/API:Main_page/jp )\n",
    "\n",
    "よくわからんけど\"https://commons.wikimedia.org/wiki/File:[[file]]&prop=imageinfo&iiprop=url&format=json\" って形のurlをrequestsに投げればいいっぽい\n",
    "\n",
    "(Get information about the file, File:Billy_Tipton.jpg <br>\n",
    "api.php?action=query&format=json&prop=imageinfo&titles=File:Billy_Tipton.jpg)\n",
    "\n",
    "iiprop=url:\n",
    "(Gives URL to the file and the description page. If the file has been revision deleted, a filehidden property will be returned.)\n",
    "\n",
    "group(): 正規表現でマッチした文字列を取得"
   ]
  },
  {
   "cell_type": "code",
   "execution_count": 152,
   "metadata": {},
   "outputs": [
    {
     "name": "stdout",
     "output_type": "stream",
     "text": [
      "https://upload.wikimedia.org/wikipedia/commons/a/ae/Flag_of_the_United_Kingdom.svg\n"
     ]
    }
   ],
   "source": [
    "url_file = re.sub('\\s', '_', result['国旗画像'])\n",
    "url = 'https://commons.wikimedia.org/w/api.php?action=query&titles=File:' + url_file + '&prop=imageinfo&iiprop=url&format=json'\n",
    "data = requests.get(url)\n",
    "\n",
    "url = re.search('\\\"url\\\":\\\"(.*?)\\\",', data.text)\n",
    "print(url.group(1))"
   ]
  },
  {
   "cell_type": "code",
   "execution_count": null,
   "metadata": {},
   "outputs": [],
   "source": []
  }
 ],
 "metadata": {
  "kernelspec": {
   "display_name": "Python 3",
   "language": "python",
   "name": "python3"
  },
  "language_info": {
   "codemirror_mode": {
    "name": "ipython",
    "version": 3
   },
   "file_extension": ".py",
   "mimetype": "text/x-python",
   "name": "python",
   "nbconvert_exporter": "python",
   "pygments_lexer": "ipython3",
   "version": "3.7.0"
  }
 },
 "nbformat": 4,
 "nbformat_minor": 2
}
