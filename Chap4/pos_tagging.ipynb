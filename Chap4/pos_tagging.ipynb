{
 "cells": [
  {
   "cell_type": "code",
   "execution_count": 1,
   "metadata": {},
   "outputs": [],
   "source": [
    "#coding:utf-8\n",
    "\n",
    "import re\n",
    "import matplotlib.pyplot as plt"
   ]
  },
  {
   "cell_type": "code",
   "execution_count": 7,
   "metadata": {},
   "outputs": [
    {
     "name": "stdout",
     "output_type": "stream",
     "text": [
      "--2021-07-12 01:38:46--  https://nlp100.github.io/data/neko.txt\n",
      "nlp100.github.io (nlp100.github.io) をDNSに問いあわせています... 185.199.109.153, 185.199.110.153, 185.199.111.153, ...\n",
      "nlp100.github.io (nlp100.github.io)|185.199.109.153|:443 に接続しています... 接続しました。\n",
      "HTTP による接続要求を送信しました、応答を待っています... 200 OK\n",
      "長さ: 975789 (953K) [text/plain]\n",
      "`neko.txt' に保存中\n",
      "\n",
      "neko.txt            100%[===================>] 952.92K  --.-KB/s 時間 0.1s       \n",
      "\n",
      "2021-07-12 01:38:46 (8.70 MB/s) - `neko.txt' へ保存完了 [975789/975789]\n",
      "\n"
     ]
    }
   ],
   "source": [
    "!wget https://nlp100.github.io/data/neko.txt\n",
    "!mecab -o neko.txt.mecab neko.txt"
   ]
  },
  {
   "cell_type": "markdown",
   "metadata": {},
   "source": [
    "# Problem 30: Reading the result\n",
    "\n",
    "mecabの出力は以下のようになっている<br>\n",
    "表層形\\t品詞,品詞細分類1,品詞細分類2,品詞細分類3,活用型,活用形,原形,読み,発音<br>\n",
    "ex)ある\t助動詞,*,*,*,五段・ラ行アル,基本形,ある,アル,アル\n",
    "\n",
    "ファイルを読み込み、空白('')や改行('\\n')以外の行を上から処理する。<br>\n",
    "'EOS\\n'が出てくるところまで各形態素を辞書型に格納し、リストに追加する。<br>\n",
    "'EOS\\n'が出てきたところで辞書型をリセットする。"
   ]
  },
  {
   "cell_type": "code",
   "execution_count": 7,
   "metadata": {},
   "outputs": [],
   "source": [
    "morphs = []\n",
    "sentences = []\n",
    "\n",
    "with open('neko.txt.mecab', mode='r') as f:\n",
    "    for line in f:\n",
    "        if line != 'EOS\\n':\n",
    "            morph = line.split('\\t')\n",
    "            if morph[0]=='' or morph[0]=='\\n':\n",
    "                continue\n",
    "            else:\n",
    "                attr = morph[1].split(',')\n",
    "                ans = {'surface':morph[0], 'base':attr[6], 'pos':attr[0], 'pos1':attr[1]}\n",
    "                morphs.append(ans)\n",
    "        else:\n",
    "            sentences.append(morphs)\n",
    "            morphs = []"
   ]
  },
  {
   "cell_type": "code",
   "execution_count": 12,
   "metadata": {},
   "outputs": [
    {
     "data": {
      "text/plain": [
       "[[{'surface': '一', 'base': '一', 'pos': '名詞', 'pos1': '数'}],\n",
       " [],\n",
       " [{'surface': '\\u3000', 'base': '\\u3000', 'pos': '記号', 'pos1': '空白'},\n",
       "  {'surface': '吾輩', 'base': '吾輩', 'pos': '名詞', 'pos1': '代名詞'},\n",
       "  {'surface': 'は', 'base': 'は', 'pos': '助詞', 'pos1': '係助詞'},\n",
       "  {'surface': '猫', 'base': '猫', 'pos': '名詞', 'pos1': '一般'},\n",
       "  {'surface': 'で', 'base': 'だ', 'pos': '助動詞', 'pos1': '*'},\n",
       "  {'surface': 'ある', 'base': 'ある', 'pos': '助動詞', 'pos1': '*'},\n",
       "  {'surface': '。', 'base': '。', 'pos': '記号', 'pos1': '句点'}],\n",
       " [{'surface': '名前', 'base': '名前', 'pos': '名詞', 'pos1': '一般'},\n",
       "  {'surface': 'は', 'base': 'は', 'pos': '助詞', 'pos1': '係助詞'},\n",
       "  {'surface': 'まだ', 'base': 'まだ', 'pos': '副詞', 'pos1': '助詞類接続'},\n",
       "  {'surface': '無い', 'base': '無い', 'pos': '形容詞', 'pos1': '自立'},\n",
       "  {'surface': '。', 'base': '。', 'pos': '記号', 'pos1': '句点'}],\n",
       " []]"
      ]
     },
     "execution_count": 12,
     "metadata": {},
     "output_type": "execute_result"
    }
   ],
   "source": [
    "#確認\n",
    "sentences[:5]"
   ]
  },
  {
   "cell_type": "markdown",
   "metadata": {},
   "source": [
    "# Problem 31: Verbs"
   ]
  },
  {
   "cell_type": "code",
   "execution_count": 21,
   "metadata": {},
   "outputs": [],
   "source": [
    "verb_surfaces = set()\n",
    "\n",
    "for sentence in sentences:\n",
    "    for morph in sentence:\n",
    "        if morph['pos']=='動詞':\n",
    "            verb_surfaces.add(morph['surface'])"
   ]
  },
  {
   "cell_type": "code",
   "execution_count": 22,
   "metadata": {},
   "outputs": [
    {
     "data": {
      "text/plain": [
       "['苦しむ', '和する', '収め', '這入る', '這い出そ']"
      ]
     },
     "execution_count": 22,
     "metadata": {},
     "output_type": "execute_result"
    }
   ],
   "source": [
    "#確認\n",
    "list(verb_surfaces)[:5]"
   ]
  },
  {
   "cell_type": "code",
   "execution_count": 25,
   "metadata": {},
   "outputs": [
    {
     "data": {
      "text/plain": [
       "3893"
      ]
     },
     "execution_count": 25,
     "metadata": {},
     "output_type": "execute_result"
    }
   ],
   "source": [
    "len(verb_surfaces)"
   ]
  },
  {
   "cell_type": "markdown",
   "metadata": {},
   "source": [
    "# Problem 32: Base forms of verbs"
   ]
  },
  {
   "cell_type": "code",
   "execution_count": 23,
   "metadata": {},
   "outputs": [],
   "source": [
    "verb_bases = set()\n",
    "\n",
    "for sentence in sentences:\n",
    "    for morph in sentence:\n",
    "        if morph['pos']=='動詞':\n",
    "            verb_bases.add(morph['base'])"
   ]
  },
  {
   "cell_type": "code",
   "execution_count": 24,
   "metadata": {},
   "outputs": [
    {
     "data": {
      "text/plain": [
       "['苦しむ', '和する', 'ぐれる', '這入る', '浮かぶ']"
      ]
     },
     "execution_count": 24,
     "metadata": {},
     "output_type": "execute_result"
    }
   ],
   "source": [
    "#確認\n",
    "list(verb_bases)[:5]"
   ]
  },
  {
   "cell_type": "code",
   "execution_count": 26,
   "metadata": {},
   "outputs": [
    {
     "data": {
      "text/plain": [
       "2300"
      ]
     },
     "execution_count": 26,
     "metadata": {},
     "output_type": "execute_result"
    }
   ],
   "source": [
    "len(verb_bases)"
   ]
  },
  {
   "cell_type": "markdown",
   "metadata": {},
   "source": [
    "# Problem 33: A of B\n",
    "\n",
    "2つの名詞が「の」で連結されている<br>\n",
    "-><br>\n",
    "条件1: 連体化の助詞「の」<br>\n",
    "条件2: 「の」の前後の品詞がどちらも名詞\n",
    "\n",
    "各文を読み込んでいき、条件を満たすものがあればsetに追加する"
   ]
  },
  {
   "cell_type": "code",
   "execution_count": 44,
   "metadata": {},
   "outputs": [],
   "source": [
    "AofB = set()\n",
    "\n",
    "for sentence in sentences:\n",
    "    for idx, morph in enumerate(sentence):\n",
    "        if morph['surface']=='の' and morph['pos']=='助詞' and morph['pos1']=='連体化':\n",
    "            if len(sentence)-idx!=1:\n",
    "                A = sentence[idx-1]['pos']\n",
    "                B = sentence[idx+1]['pos']\n",
    "                if A=='名詞' and B=='名詞':\n",
    "                    phase = sentence[idx-1]['surface']+'の'+sentence[idx+1]['surface']\n",
    "                    AofB.add(phase)\n",
    "            else:\n",
    "                continue"
   ]
  },
  {
   "cell_type": "code",
   "execution_count": 46,
   "metadata": {},
   "outputs": [
    {
     "data": {
      "text/plain": [
       "['僕の舌', '柳の下', 'ベオウルフの中', '小説の中', '泥棒の無謀']"
      ]
     },
     "execution_count": 46,
     "metadata": {},
     "output_type": "execute_result"
    }
   ],
   "source": [
    "#確認\n",
    "list(AofB)[:5]"
   ]
  },
  {
   "cell_type": "markdown",
   "metadata": {},
   "source": [
    "# Problem 34: A B"
   ]
  },
  {
   "cell_type": "code",
   "execution_count": 288,
   "metadata": {},
   "outputs": [],
   "source": [
    "AB_set = set()\n",
    "\n",
    "for sentence in sentences:\n",
    "    cnt = 0\n",
    "    noun = ''\n",
    "    for morph in sentence:\n",
    "        if morph['pos']=='名詞':\n",
    "            cnt += 1\n",
    "            noun = ''.join([noun, morph['surface']])\n",
    "        elif cnt > 1:\n",
    "            AB_set.add(noun)\n",
    "            cnt = 0\n",
    "            noun = ''\n",
    "        else:\n",
    "            cnt = 0\n",
    "            noun = ''\n",
    "            \n",
    "    if cnt > 1:\n",
    "        AB_set.add(noun)"
   ]
  },
  {
   "cell_type": "code",
   "execution_count": 289,
   "metadata": {},
   "outputs": [
    {
     "data": {
      "text/plain": [
       "['愚考致候', '金田夫婦', '仁参', '水癲癇', '清和源氏']"
      ]
     },
     "execution_count": 289,
     "metadata": {},
     "output_type": "execute_result"
    }
   ],
   "source": [
    "#確認\n",
    "list(AB_set)[:5]"
   ]
  },
  {
   "cell_type": "markdown",
   "metadata": {},
   "source": [
    "# Problem 35: Frequency of words"
   ]
  },
  {
   "cell_type": "markdown",
   "metadata": {},
   "source": [
    "# Problem 36: Top-ten frequent words"
   ]
  },
  {
   "cell_type": "markdown",
   "metadata": {},
   "source": [
    "# Problem 37: Top-ten words co-occuring with 'neko'"
   ]
  },
  {
   "cell_type": "markdown",
   "metadata": {},
   "source": [
    "# Problem 38: Histogram"
   ]
  },
  {
   "cell_type": "markdown",
   "metadata": {},
   "source": [
    "# Problem 39: Zipf's law"
   ]
  },
  {
   "cell_type": "code",
   "execution_count": null,
   "metadata": {},
   "outputs": [],
   "source": []
  }
 ],
 "metadata": {
  "kernelspec": {
   "display_name": "Python 3",
   "language": "python",
   "name": "python3"
  },
  "language_info": {
   "codemirror_mode": {
    "name": "ipython",
    "version": 3
   },
   "file_extension": ".py",
   "mimetype": "text/x-python",
   "name": "python",
   "nbconvert_exporter": "python",
   "pygments_lexer": "ipython3",
   "version": "3.7.0"
  }
 },
 "nbformat": 4,
 "nbformat_minor": 2
}
